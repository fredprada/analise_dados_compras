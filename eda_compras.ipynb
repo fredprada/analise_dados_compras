{
 "cells": [
  {
   "cell_type": "code",
   "execution_count": null,
   "metadata": {},
   "outputs": [],
   "source": [
    "from collecting_data import treated_data\n",
    "import streamlit as st\n",
    "import pandas as pd\n",
    "import numpy as np \n",
    "import seaborn as sns\n",
    "import datetime"
   ]
  },
  {
   "cell_type": "code",
   "execution_count": null,
   "metadata": {},
   "outputs": [],
   "source": [
    "ax = sns.boxplot(\n",
    "    x='tempo_tratamento',\n",
    "    y='primeiro_estadiamento',    \n",
    "    data=pacientes_final,\n",
    "    orient='h',\n",
    "    order=['1','2','3','4'],\n",
    "    showfliers=False)\n",
    "\n",
    "ax.figure.set_size_inches(12, 6)\n",
    "ax.set_title('Distribuição de Tempo de tratamento', fontsize=18)\n",
    "_ = ax.set_xlabel('Meses', fontsize=14)"
   ]
  }
 ],
 "metadata": {
  "kernelspec": {
   "display_name": "Python 3",
   "language": "python",
   "name": "python3"
  },
  "language_info": {
   "name": "python",
   "version": "3.9.6 (tags/v3.9.6:db3ff76, Jun 28 2021, 15:26:21) [MSC v.1929 64 bit (AMD64)]"
  },
  "orig_nbformat": 4,
  "vscode": {
   "interpreter": {
    "hash": "a65e0eafc22f30aa882fc57de03ab4993c4f7957369d2157f87e2ebd22fd3153"
   }
  }
 },
 "nbformat": 4,
 "nbformat_minor": 2
}
