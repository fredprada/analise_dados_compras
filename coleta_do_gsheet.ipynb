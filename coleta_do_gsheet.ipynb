{
 "cells": [
  {
   "cell_type": "code",
   "execution_count": 2,
   "metadata": {},
   "outputs": [
    {
     "name": "stdout",
     "output_type": "stream",
     "text": [
      "Collecting streamlit\n",
      "  Downloading streamlit-1.17.0-py2.py3-none-any.whl (9.3 MB)\n",
      "Requirement already satisfied: packaging>=14.1 in c:\\users\\fred\\appdata\\local\\programs\\python\\python39\\lib\\site-packages (from streamlit) (21.3)\n",
      "Requirement already satisfied: python-dateutil in c:\\users\\fred\\appdata\\local\\programs\\python\\python39\\lib\\site-packages (from streamlit) (2.8.2)\n",
      "Requirement already satisfied: rich>=10.11.0 in c:\\users\\fred\\appdata\\local\\programs\\python\\python39\\lib\\site-packages (from streamlit) (12.6.0)\n",
      "Collecting toml\n",
      "  Downloading toml-0.10.2-py2.py3-none-any.whl (16 kB)\n",
      "Requirement already satisfied: importlib-metadata>=1.4 in c:\\users\\fred\\appdata\\local\\programs\\python\\python39\\lib\\site-packages (from streamlit) (5.0.0)\n",
      "Collecting pyarrow>=4.0\n",
      "  Downloading pyarrow-11.0.0-cp39-cp39-win_amd64.whl (20.6 MB)\n",
      "Requirement already satisfied: click>=7.0 in c:\\users\\fred\\appdata\\local\\programs\\python\\python39\\lib\\site-packages (from streamlit) (8.1.3)\n",
      "Requirement already satisfied: pillow>=6.2.0 in c:\\users\\fred\\appdata\\local\\programs\\python\\python39\\lib\\site-packages (from streamlit) (8.3.1)\n",
      "Collecting gitpython!=3.1.19\n",
      "  Downloading GitPython-3.1.30-py3-none-any.whl (184 kB)\n",
      "Collecting protobuf<4,>=3.12\n",
      "  Downloading protobuf-3.20.3-cp39-cp39-win_amd64.whl (904 kB)\n",
      "Requirement already satisfied: numpy in c:\\users\\fred\\appdata\\local\\programs\\python\\python39\\lib\\site-packages (from streamlit) (1.21.1)\n",
      "Collecting semver\n",
      "  Downloading semver-2.13.0-py2.py3-none-any.whl (12 kB)\n",
      "Requirement already satisfied: tornado>=5.0 in c:\\users\\fred\\appdata\\local\\programs\\python\\python39\\lib\\site-packages (from streamlit) (6.1)\n",
      "Collecting tzlocal>=1.1\n",
      "  Downloading tzlocal-4.2-py3-none-any.whl (19 kB)\n",
      "Requirement already satisfied: pandas>=0.21.0 in c:\\users\\fred\\appdata\\local\\programs\\python\\python39\\lib\\site-packages (from streamlit) (1.3.1)\n",
      "Collecting pympler>=0.9\n",
      "  Downloading Pympler-1.0.1-py3-none-any.whl (164 kB)\n",
      "Requirement already satisfied: typing-extensions>=3.10.0.0 in c:\\users\\fred\\appdata\\local\\programs\\python\\python39\\lib\\site-packages (from streamlit) (4.4.0)\n",
      "Collecting pydeck>=0.1.dev5\n",
      "  Downloading pydeck-0.8.0-py2.py3-none-any.whl (4.7 MB)\n",
      "Collecting cachetools>=4.0\n",
      "  Downloading cachetools-5.3.0-py3-none-any.whl (9.3 kB)\n",
      "Collecting altair>=3.2.0\n",
      "  Downloading altair-4.2.2-py3-none-any.whl (813 kB)\n",
      "Collecting watchdog\n",
      "  Downloading watchdog-2.2.1-py3-none-win_amd64.whl (78 kB)\n",
      "Collecting validators>=0.2\n",
      "  Downloading validators-0.20.0.tar.gz (30 kB)\n",
      "  Preparing metadata (setup.py): started\n",
      "  Preparing metadata (setup.py): finished with status 'done'\n",
      "Requirement already satisfied: blinker>=1.0.0 in c:\\users\\fred\\appdata\\local\\programs\\python\\python39\\lib\\site-packages (from streamlit) (1.5)\n",
      "Requirement already satisfied: requests>=2.4 in c:\\users\\fred\\appdata\\local\\programs\\python\\python39\\lib\\site-packages (from streamlit) (2.11.1)\n",
      "Requirement already satisfied: jinja2 in c:\\users\\fred\\appdata\\local\\programs\\python\\python39\\lib\\site-packages (from altair>=3.2.0->streamlit) (3.0.1)\n",
      "Requirement already satisfied: entrypoints in c:\\users\\fred\\appdata\\local\\programs\\python\\python39\\lib\\site-packages (from altair>=3.2.0->streamlit) (0.3)\n",
      "Collecting toolz\n",
      "  Downloading toolz-0.12.0-py3-none-any.whl (55 kB)\n",
      "Requirement already satisfied: jsonschema>=3.0 in c:\\users\\fred\\appdata\\local\\programs\\python\\python39\\lib\\site-packages (from altair>=3.2.0->streamlit) (3.2.0)\n",
      "Requirement already satisfied: colorama in c:\\users\\fred\\appdata\\local\\programs\\python\\python39\\lib\\site-packages (from click>=7.0->streamlit) (0.4.4)\n",
      "Collecting gitdb<5,>=4.0.1\n",
      "  Downloading gitdb-4.0.10-py3-none-any.whl (62 kB)\n",
      "Requirement already satisfied: zipp>=0.5 in c:\\users\\fred\\appdata\\local\\programs\\python\\python39\\lib\\site-packages (from importlib-metadata>=1.4->streamlit) (3.9.0)\n",
      "Requirement already satisfied: pyparsing!=3.0.5,>=2.0.2 in c:\\users\\fred\\appdata\\local\\programs\\python\\python39\\lib\\site-packages (from packaging>=14.1->streamlit) (2.4.7)\n",
      "Requirement already satisfied: pytz>=2017.3 in c:\\users\\fred\\appdata\\local\\programs\\python\\python39\\lib\\site-packages (from pandas>=0.21.0->streamlit) (2021.1)\n",
      "Requirement already satisfied: six>=1.5 in c:\\users\\fred\\appdata\\local\\programs\\python\\python39\\lib\\site-packages (from python-dateutil->streamlit) (1.16.0)\n",
      "Requirement already satisfied: commonmark<0.10.0,>=0.9.0 in c:\\users\\fred\\appdata\\local\\programs\\python\\python39\\lib\\site-packages (from rich>=10.11.0->streamlit) (0.9.1)\n",
      "Requirement already satisfied: pygments<3.0.0,>=2.6.0 in c:\\users\\fred\\appdata\\local\\programs\\python\\python39\\lib\\site-packages (from rich>=10.11.0->streamlit) (2.10.0)\n",
      "Collecting tzdata\n",
      "  Downloading tzdata-2022.7-py2.py3-none-any.whl (340 kB)\n",
      "Collecting pytz-deprecation-shim\n",
      "  Downloading pytz_deprecation_shim-0.1.0.post0-py2.py3-none-any.whl (15 kB)\n",
      "Requirement already satisfied: decorator>=3.4.0 in c:\\users\\fred\\appdata\\local\\programs\\python\\python39\\lib\\site-packages (from validators>=0.2->streamlit) (5.1.0)\n",
      "Collecting smmap<6,>=3.0.1\n",
      "  Downloading smmap-5.0.0-py3-none-any.whl (24 kB)\n",
      "Requirement already satisfied: MarkupSafe>=2.0 in c:\\users\\fred\\appdata\\local\\programs\\python\\python39\\lib\\site-packages (from jinja2->altair>=3.2.0->streamlit) (2.1.1)\n",
      "Requirement already satisfied: setuptools in c:\\users\\fred\\appdata\\local\\programs\\python\\python39\\lib\\site-packages (from jsonschema>=3.0->altair>=3.2.0->streamlit) (56.0.0)\n",
      "Requirement already satisfied: pyrsistent>=0.14.0 in c:\\users\\fred\\appdata\\local\\programs\\python\\python39\\lib\\site-packages (from jsonschema>=3.0->altair>=3.2.0->streamlit) (0.18.0)\n",
      "Requirement already satisfied: attrs>=17.4.0 in c:\\users\\fred\\appdata\\local\\programs\\python\\python39\\lib\\site-packages (from jsonschema>=3.0->altair>=3.2.0->streamlit) (22.2.0)\n",
      "Using legacy 'setup.py install' for validators, since package 'wheel' is not installed.\n",
      "Installing collected packages: tzdata, smmap, toolz, pytz-deprecation-shim, gitdb, watchdog, validators, tzlocal, toml, semver, pympler, pydeck, pyarrow, protobuf, gitpython, cachetools, altair, streamlit\n",
      "    Running setup.py install for validators: started\n",
      "    Running setup.py install for validators: finished with status 'done'\n",
      "  Attempting uninstall: protobuf\n",
      "    Found existing installation: protobuf 4.21.12\n",
      "    Uninstalling protobuf-4.21.12:\n",
      "      Successfully uninstalled protobuf-4.21.12\n",
      "Successfully installed altair-4.2.2 cachetools-5.3.0 gitdb-4.0.10 gitpython-3.1.30 protobuf-3.20.3 pyarrow-11.0.0 pydeck-0.8.0 pympler-1.0.1 pytz-deprecation-shim-0.1.0.post0 semver-2.13.0 smmap-5.0.0 streamlit-1.17.0 toml-0.10.2 toolz-0.12.0 tzdata-2022.7 tzlocal-4.2 validators-0.20.0 watchdog-2.2.1\n"
     ]
    },
    {
     "name": "stderr",
     "output_type": "stream",
     "text": [
      "ERROR: pip's dependency resolver does not currently take into account all the packages that are installed. This behaviour is the source of the following dependency conflicts.\n",
      "mysql-connector-python 8.0.31 requires protobuf<=3.20.1,>=3.11.0, but you have protobuf 3.20.3 which is incompatible.\n",
      "WARNING: You are using pip version 21.3; however, version 22.3.1 is available.\n",
      "You should consider upgrading via the 'c:\\users\\fred\\appdata\\local\\programs\\python\\python39\\python.exe -m pip install --upgrade pip' command.\n"
     ]
    },
    {
     "name": "stdout",
     "output_type": "stream",
     "text": [
      "Collecting gsheetsdb\n",
      "  Downloading gsheetsdb-0.1.13.1.tar.gz (19 kB)\n",
      "  Preparing metadata (setup.py): started\n",
      "  Preparing metadata (setup.py): finished with status 'done'\n",
      "Collecting google-auth\n",
      "  Downloading google_auth-2.16.0-py2.py3-none-any.whl (177 kB)\n",
      "Collecting moz_sql_parser\n",
      "  Downloading moz-sql-parser-4.40.21126.tar.gz (67 kB)\n",
      "  Preparing metadata (setup.py): started\n",
      "  Preparing metadata (setup.py): finished with status 'done'\n",
      "Collecting requests>=2.20.0\n",
      "  Downloading requests-2.28.2-py3-none-any.whl (62 kB)\n",
      "Requirement already satisfied: six in c:\\users\\fred\\appdata\\local\\programs\\python\\python39\\lib\\site-packages (from gsheetsdb) (1.16.0)\n",
      "Requirement already satisfied: certifi>=2017.4.17 in c:\\users\\fred\\appdata\\local\\programs\\python\\python39\\lib\\site-packages (from requests>=2.20.0->gsheetsdb) (2021.10.8)\n",
      "Requirement already satisfied: charset-normalizer<4,>=2 in c:\\users\\fred\\appdata\\local\\programs\\python\\python39\\lib\\site-packages (from requests>=2.20.0->gsheetsdb) (2.0.7)\n",
      "Requirement already satisfied: idna<4,>=2.5 in c:\\users\\fred\\appdata\\local\\programs\\python\\python39\\lib\\site-packages (from requests>=2.20.0->gsheetsdb) (3.3)\n",
      "Requirement already satisfied: urllib3<1.27,>=1.21.1 in c:\\users\\fred\\appdata\\local\\programs\\python\\python39\\lib\\site-packages (from requests>=2.20.0->gsheetsdb) (1.26.7)\n",
      "Requirement already satisfied: pyasn1-modules>=0.2.1 in c:\\users\\fred\\appdata\\local\\programs\\python\\python39\\lib\\site-packages (from google-auth->gsheetsdb) (0.2.8)\n",
      "Requirement already satisfied: cachetools<6.0,>=2.0.0 in c:\\users\\fred\\appdata\\local\\programs\\python\\python39\\lib\\site-packages (from google-auth->gsheetsdb) (5.3.0)\n",
      "Requirement already satisfied: rsa<5,>=3.1.4 in c:\\users\\fred\\appdata\\local\\programs\\python\\python39\\lib\\site-packages (from google-auth->gsheetsdb) (4.9)\n",
      "Collecting mo-dots==4.22.21108\n",
      "  Downloading mo-dots-4.22.21108.tar.gz (17 kB)\n",
      "  Preparing metadata (setup.py): started\n",
      "  Preparing metadata (setup.py): finished with status 'done'\n",
      "Collecting mo-future==3.147.20327\n",
      "  Downloading mo-future-3.147.20327.tar.gz (4.3 kB)\n",
      "  Preparing metadata (setup.py): started\n",
      "  Preparing metadata (setup.py): finished with status 'done'\n",
      "Collecting mo-logs==4.23.21108\n",
      "  Downloading mo-logs-4.23.21108.tar.gz (37 kB)\n",
      "  Preparing metadata (setup.py): started\n",
      "  Preparing metadata (setup.py): finished with status 'done'\n",
      "Collecting mo-imports==3.149.20327\n",
      "  Downloading mo-imports-3.149.20327.tar.gz (5.4 kB)\n",
      "  Preparing metadata (setup.py): started\n",
      "  Preparing metadata (setup.py): finished with status 'done'\n",
      "Collecting mo-kwargs==4.22.21108\n",
      "  Downloading mo-kwargs-4.22.21108.tar.gz (6.5 kB)\n",
      "  Preparing metadata (setup.py): started\n",
      "  Preparing metadata (setup.py): finished with status 'done'\n",
      "Requirement already satisfied: pyasn1<0.5.0,>=0.4.6 in c:\\users\\fred\\appdata\\local\\programs\\python\\python39\\lib\\site-packages (from pyasn1-modules>=0.2.1->google-auth->gsheetsdb) (0.4.8)\n",
      "Using legacy 'setup.py install' for gsheetsdb, since package 'wheel' is not installed.\n",
      "Using legacy 'setup.py install' for moz-sql-parser, since package 'wheel' is not installed.\n",
      "Using legacy 'setup.py install' for mo-dots, since package 'wheel' is not installed.\n",
      "Using legacy 'setup.py install' for mo-future, since package 'wheel' is not installed.\n",
      "Using legacy 'setup.py install' for mo-logs, since package 'wheel' is not installed.\n",
      "Using legacy 'setup.py install' for mo-imports, since package 'wheel' is not installed.\n",
      "Using legacy 'setup.py install' for mo-kwargs, since package 'wheel' is not installed.\n",
      "Installing collected packages: mo-future, mo-imports, mo-dots, mo-kwargs, mo-logs, requests, moz-sql-parser, google-auth, gsheetsdb\n",
      "    Running setup.py install for mo-future: started\n",
      "    Running setup.py install for mo-future: finished with status 'done'\n",
      "    Running setup.py install for mo-imports: started\n",
      "    Running setup.py install for mo-imports: finished with status 'done'\n",
      "    Running setup.py install for mo-dots: started\n",
      "    Running setup.py install for mo-dots: finished with status 'done'\n",
      "    Running setup.py install for mo-kwargs: started\n",
      "    Running setup.py install for mo-kwargs: finished with status 'done'\n",
      "    Running setup.py install for mo-logs: started\n",
      "    Running setup.py install for mo-logs: finished with status 'done'\n",
      "  Attempting uninstall: requests\n",
      "    Found existing installation: requests 2.11.1\n",
      "    Uninstalling requests-2.11.1:\n",
      "      Successfully uninstalled requests-2.11.1\n",
      "    Running setup.py install for moz-sql-parser: started\n",
      "    Running setup.py install for moz-sql-parser: finished with status 'done'\n",
      "    Running setup.py install for gsheetsdb: started\n",
      "    Running setup.py install for gsheetsdb: finished with status 'done'\n",
      "Successfully installed google-auth-2.16.0 gsheetsdb-0.1.13.1 mo-dots-4.22.21108 mo-future-3.147.20327 mo-imports-3.149.20327 mo-kwargs-4.22.21108 mo-logs-4.23.21108 moz-sql-parser-4.40.21126 requests-2.28.2\n"
     ]
    },
    {
     "name": "stderr",
     "output_type": "stream",
     "text": [
      "WARNING: You are using pip version 21.3; however, version 22.3.1 is available.\n",
      "You should consider upgrading via the 'c:\\users\\fred\\appdata\\local\\programs\\python\\python39\\python.exe -m pip install --upgrade pip' command.\n"
     ]
    }
   ],
   "source": [
    "!pip install streamlit\n",
    "!pip install gsheetsdb"
   ]
  },
  {
   "cell_type": "code",
   "execution_count": 3,
   "metadata": {},
   "outputs": [
    {
     "name": "stderr",
     "output_type": "stream",
     "text": [
      "2023-01-31 23:24:04.522 \n",
      "  \u001b[33m\u001b[1mWarning:\u001b[0m to view this Streamlit app on a browser, run it with the following\n",
      "  command:\n",
      "\n",
      "    streamlit run c:\\Users\\Fred\\AppData\\Local\\Programs\\Python\\Python39\\lib\\site-packages\\ipykernel_launcher.py [ARGUMENTS]\n",
      "2023-01-31 23:24:08.602 Original query: SELECT * FROM \"https://docs.google.com/spreadsheets/d/1tJ6PRhoTcdx9f6S6qAWflDuBiSaUubYE/edit?usp=sharing&ouid=118424940476867212407&rtpof=true&sd=true\"\n",
      "2023-01-31 23:24:08.603 Translated query: SELECT *\n"
     ]
    }
   ],
   "source": [
    "import streamlit as st\n",
    "import pandas as pd\n",
    "from gsheetsdb import connect\n",
    "\n",
    "st.title(\"Connect to Google Sheets\")\n",
    "gsheet_url = st.secrets[\"public_gsheets_url\"]\n",
    "conn = connect()\n",
    "rows = conn.execute(f'SELECT * FROM \"{gsheet_url}\"')\n",
    "df_gsheet = pd.DataFrame(rows)\n",
    "st.write(df_gsheet)"
   ]
  }
 ],
 "metadata": {
  "kernelspec": {
   "display_name": "Python 3",
   "language": "python",
   "name": "python3"
  },
  "language_info": {
   "codemirror_mode": {
    "name": "ipython",
    "version": 3
   },
   "file_extension": ".py",
   "mimetype": "text/x-python",
   "name": "python",
   "nbconvert_exporter": "python",
   "pygments_lexer": "ipython3",
   "version": "3.9.6"
  },
  "orig_nbformat": 4,
  "vscode": {
   "interpreter": {
    "hash": "a65e0eafc22f30aa882fc57de03ab4993c4f7957369d2157f87e2ebd22fd3153"
   }
  }
 },
 "nbformat": 4,
 "nbformat_minor": 2
}
